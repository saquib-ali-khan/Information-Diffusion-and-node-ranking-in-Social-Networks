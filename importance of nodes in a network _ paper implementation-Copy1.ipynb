{
 "cells": [
  {
   "cell_type": "code",
   "execution_count": 1,
   "metadata": {
    "collapsed": true
   },
   "outputs": [],
   "source": [
    "import networkx as nx\n"
   ]
  },
  {
   "cell_type": "code",
   "execution_count": 3,
   "metadata": {
    "collapsed": false
   },
   "outputs": [],
   "source": [
    "from random import random\n",
    "G=nx.Graph()\n",
    "path = \"/home/turing/Desktop/dolphins/datasets/US_network\"\n",
    "\n",
    "with open(path,\"r\") as f:\n",
    "      \n",
    "      for line in f:\n",
    "                 nums=line.strip(\"\\n\").split(\" \")\n",
    "            \n",
    "                 try:\n",
    "                        node1,node2=int(nums[0]),int(nums[1])\n",
    "                        G.add_edge(node1,node2)\n",
    "                 except:\n",
    "                        pass\n",
    "\n",
    "\n",
    "###########################################################\n",
    "\n",
    "                    \n",
    "#print nx.all_pairs_shortest_path(G)\n"
   ]
  },
  {
   "cell_type": "code",
   "execution_count": 4,
   "metadata": {
    "collapsed": false
   },
   "outputs": [],
   "source": [
    "\n",
    "def network_efficiency(Graph):\n",
    "        sum=0.0\n",
    "        a=Graph.nodes()\n",
    "        N=len(a)\n",
    "        \n",
    "        \n",
    "        for i,node1 in enumerate(a):\n",
    "             for node2 in a[i+2:] :\n",
    "                   \n",
    "                   try:   \n",
    "                      #print node1,node2  \n",
    "                      dij=nx.shortest_path_length(Graph,node1,node2)  \n",
    "                      sum+=(float(1)/dij)\n",
    "                   except: pass     \n",
    "                        \n",
    "        return (float(1)/(N*(N-1)))*sum                \n",
    "\n",
    "                "
   ]
  },
  {
   "cell_type": "code",
   "execution_count": 5,
   "metadata": {
    "collapsed": false
   },
   "outputs": [],
   "source": [
    "#import matplotlib.pyplot as plt\n",
    "#%matplotlib inline\n",
    "#\n",
    "#nx.draw(G,with_labels=True)\n",
    "#plt.show"
   ]
  },
  {
   "cell_type": "code",
   "execution_count": 7,
   "metadata": {
    "collapsed": false
   },
   "outputs": [],
   "source": [
    "##############################  code for paper (Finding the important nodes using important edges in a network) #############\n",
    "\n",
    "import networkx as nx\n",
    "\n",
    "G = nx.Graph()\n",
    "\n",
    "path = \"/home/turing/Desktop/dolphins/datasets/US_network\"\n",
    "\n",
    "with open(path,\"r\") as f:\n",
    "      \n",
    "             for line in f:\n",
    "                                   nums=line.strip(\"\\n\").split(\" \")\n",
    "             \n",
    "                                   try:\n",
    "                                         node1,node2=int(nums[0]),int(nums[1])\n",
    "                                         G.add_edge(node1,node2)\n",
    "                                   except:\n",
    "                                         pass\n",
    "\n",
    "\n",
    "#n_list = G.neighbors(4) \n",
    "#print n_list\n",
    "#print len(n_list)\n"
   ]
  },
  {
   "cell_type": "code",
   "execution_count": 8,
   "metadata": {
    "collapsed": false
   },
   "outputs": [],
   "source": [
    "dict_imp={}\n",
    "\n",
    "\n",
    "def deg(i):\n",
    "    \n",
    "      return len(G.neighbors(i))\n",
    "    \n",
    "def W(i,j): \n",
    "       \n",
    "       a=set(G.neighbors(i))\n",
    "       b=set(G.neighbors(j))\n",
    "       p = len( a.intersection(b) )\n",
    "   \n",
    "       I = ((deg(i)-p-1)*(deg(j)-p-1))/(float(p)/2 + 1)\n",
    "       return I * ( deg(i)-1)/(deg(i)+deg(j)-2)        \n",
    "            \n",
    "for i in G.nodes():\n",
    "                                        \n",
    "              dict_imp[i]=deg(i)+sum(  [W(i,j) for j in G.neighbors(i)]  )\n",
    "            \n",
    "\n",
    "\n",
    "import operator        \n",
    "sorted_impdict=sorted(dict_imp.iteritems(),key=operator.itemgetter(1),reverse=True)        \n",
    "              \n",
    "#for k,v in sorted_impdict:\n",
    "#     print k,\":\",v      \n",
    "#            \n",
    "neeta = network_efficiency(G)\n"
   ]
  },
  {
   "cell_type": "code",
   "execution_count": null,
   "metadata": {
    "collapsed": false
   },
   "outputs": [],
   "source": [
    "net_eff_hist=[]\n",
    "\n",
    "\n",
    "for i,m in enumerate(sorted_impdict[:len(sorted_impdict)-50]):\n",
    "         \n",
    "         node,imp=m \n",
    "         \n",
    "         # remove node from a copy of  G, and take the correspondig graph newG\n",
    "         newG=G\n",
    "         newG.remove_node(node)\n",
    "         net_eff_hist.append(network_efficiency(newG))\n",
    "        \n",
    "            \n",
    "plt.plot(net_eff_hist,'o')            # net_eff_hist[i]=network_efficiency(newG)   \n",
    "plt.show()            "
   ]
  },
  {
   "cell_type": "code",
   "execution_count": null,
   "metadata": {
    "collapsed": true
   },
   "outputs": [],
   "source": []
  },
  {
   "cell_type": "code",
   "execution_count": null,
   "metadata": {
    "collapsed": true
   },
   "outputs": [],
   "source": []
  },
  {
   "cell_type": "code",
   "execution_count": null,
   "metadata": {
    "collapsed": true
   },
   "outputs": [],
   "source": []
  },
  {
   "cell_type": "code",
   "execution_count": null,
   "metadata": {
    "collapsed": true
   },
   "outputs": [],
   "source": []
  }
 ],
 "metadata": {
  "kernelspec": {
   "display_name": "Python 2",
   "language": "python",
   "name": "python2"
  },
  "language_info": {
   "codemirror_mode": {
    "name": "ipython",
    "version": 2
   },
   "file_extension": ".py",
   "mimetype": "text/x-python",
   "name": "python",
   "nbconvert_exporter": "python",
   "pygments_lexer": "ipython2",
   "version": "2.7.12"
  }
 },
 "nbformat": 4,
 "nbformat_minor": 0
}
